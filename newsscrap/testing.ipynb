{
 "cells": [
  {
   "cell_type": "code",
   "execution_count": 1,
   "metadata": {},
   "outputs": [],
   "source": [
    "import json\n"
   ]
  },
  {
   "cell_type": "code",
   "execution_count": 2,
   "metadata": {},
   "outputs": [],
   "source": [
    "data = json.load(open(\"test.json\"))\n"
   ]
  },
  {
   "cell_type": "code",
   "execution_count": 3,
   "metadata": {},
   "outputs": [],
   "source": [
    "data = data['results'] if data['status'] == 'success' else None\n"
   ]
  },
  {
   "cell_type": "code",
   "execution_count": 22,
   "metadata": {},
   "outputs": [],
   "source": [
    "context = {\n",
    "    'post_data': []\n",
    "}\n",
    "for dt in data:\n",
    "    try:\n",
    "        context['post_data'].append((dt['keywords'][0] if dt['keywords'] is not None else \"None\", dt['pubDate'] if dt['pubDate'] is not None else \"None\", dt['title']\n",
    "                                    if dt['title'] is not None else \"None\", dt['description'] if dt['description'] is not None else \"None\", dt['image_url'] if dt['image_url'] is not None else \"None\"))\n",
    "    except Exception as e:\n",
    "        print(e)\n"
   ]
  },
  {
   "cell_type": "code",
   "execution_count": 24,
   "metadata": {},
   "outputs": [
    {
     "data": {
      "text/plain": [
       "dict"
      ]
     },
     "execution_count": 24,
     "metadata": {},
     "output_type": "execute_result"
    }
   ],
   "source": [
    "type(context)\n"
   ]
  },
  {
   "cell_type": "code",
   "execution_count": 8,
   "metadata": {},
   "outputs": [
    {
     "ename": "TypeError",
     "evalue": "'int' object is not iterable",
     "output_type": "error",
     "traceback": [
      "\u001b[0;31m---------------------------------------------------------------------------\u001b[0m",
      "\u001b[0;31mTypeError\u001b[0m                                 Traceback (most recent call last)",
      "\u001b[1;32m/Users/khushiyant/Desktop/Development/Python/Django/newsbook/newsscrap/testing.ipynb Cell 6'\u001b[0m in \u001b[0;36m<cell line: 2>\u001b[0;34m()\u001b[0m\n\u001b[1;32m      <a href='vscode-notebook-cell:/Users/khushiyant/Desktop/Development/Python/Django/newsbook/newsscrap/testing.ipynb#ch0000005?line=0'>1</a>\u001b[0m lines \u001b[39m=\u001b[39m [\u001b[39m1\u001b[39m,\u001b[39m2\u001b[39m,\u001b[39m3\u001b[39m,\u001b[39m4\u001b[39m,\u001b[39m5\u001b[39m,\u001b[39m6\u001b[39m,\u001b[39m7\u001b[39m,\u001b[39m8\u001b[39m,\u001b[39m9\u001b[39m]\n\u001b[0;32m----> <a href='vscode-notebook-cell:/Users/khushiyant/Desktop/Development/Python/Django/newsbook/newsscrap/testing.ipynb#ch0000005?line=1'>2</a>\u001b[0m \u001b[39mfor\u001b[39;00m line \u001b[39min\u001b[39;00m lines\u001b[39m.\u001b[39mpop(\u001b[39m2\u001b[39m):\n\u001b[1;32m      <a href='vscode-notebook-cell:/Users/khushiyant/Desktop/Development/Python/Django/newsbook/newsscrap/testing.ipynb#ch0000005?line=2'>3</a>\u001b[0m     \u001b[39mprint\u001b[39m(line)\n",
      "\u001b[0;31mTypeError\u001b[0m: 'int' object is not iterable"
     ]
    }
   ],
   "source": [
    "lines = [1,2,3,4,5,6,7,8,9]\n",
    "for line in lines.pop(2):\n",
    "    print(line)"
   ]
  },
  {
   "cell_type": "code",
   "execution_count": null,
   "metadata": {},
   "outputs": [],
   "source": []
  }
 ],
 "metadata": {
  "kernelspec": {
   "display_name": "Python 3.9.12 ('newsbook-env': venv)",
   "language": "python",
   "name": "python3"
  },
  "language_info": {
   "codemirror_mode": {
    "name": "ipython",
    "version": 3
   },
   "file_extension": ".py",
   "mimetype": "text/x-python",
   "name": "python",
   "nbconvert_exporter": "python",
   "pygments_lexer": "ipython3",
   "version": "3.9.12"
  },
  "orig_nbformat": 4,
  "vscode": {
   "interpreter": {
    "hash": "72671f160bcbcaa21a588d8bbfbc7c0f8d0a1ceb923b08de550eb4cba28d5821"
   }
  }
 },
 "nbformat": 4,
 "nbformat_minor": 2
}
